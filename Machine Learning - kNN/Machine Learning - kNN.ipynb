{
 "cells": [
  {
   "cell_type": "markdown",
   "metadata": {},
   "source": [
    "### Objective:\n",
    "\n",
    " The goal of this project is to construct an algorithm to predict persons of interest (POIs), or those involved in illegal activities, in the Enron fraud investigation. The Enron dataset contains features such as information on the finances and emails of employees that may be helpful to explore this question. "
   ]
  },
  {
   "cell_type": "code",
   "execution_count": 1,
   "metadata": {
    "collapsed": false
   },
   "outputs": [],
   "source": [
    "from sklearn.naive_bayes import GaussianNB\n",
    "from sklearn.grid_search import GridSearchCV\n",
    "from sklearn.decomposition import PCA\n",
    "from sklearn.pipeline import Pipeline\n",
    "from sklearn import svm\n",
    "from sklearn.cross_validation import train_test_split\n",
    "from sklearn.feature_selection import SelectKBest, f_classif\n",
    "from sklearn.cross_validation import StratifiedShuffleSplit\n",
    "from sklearn.preprocessing import MinMaxScaler, StandardScaler, RobustScaler\n",
    "from sklearn.metrics import accuracy_score, precision_score, recall_score\n",
    "from sklearn import tree\n",
    "from sklearn.neighbors import KNeighborsClassifier\n",
    "\n",
    "import sys\n",
    "import pickle\n",
    "import matplotlib.pyplot as plt\n",
    "import seaborn as sns\n",
    "sys.path.append(\"C:/Users/Jenn/ud120-projects/tools\")\n",
    "sys.path.append(\"C:/Users/Jenn/ud120-projects/final_project\")\n",
    "\n",
    "from feature_format import featureFormat, targetFeatureSplit\n",
    "from tester import test_classifier, dump_classifier_and_data\n",
    "\n",
    "%matplotlib inline "
   ]
  },
  {
   "cell_type": "code",
   "execution_count": 2,
   "metadata": {
    "collapsed": true
   },
   "outputs": [],
   "source": [
    "# Load the dictionary containing the dataset\n",
    "with open(\"C:/Users/princess/ud120-projects/final_project/final_project_dataset.pkl\", \"r\") as data_file:\n",
    "    data_dict = pickle.load(data_file)"
   ]
  },
  {
   "cell_type": "code",
   "execution_count": 3,
   "metadata": {
    "collapsed": false
   },
   "outputs": [
    {
     "data": {
      "text/plain": [
       "{'bonus': 'NaN',\n",
       " 'deferral_payments': 'NaN',\n",
       " 'deferred_income': 'NaN',\n",
       " 'director_fees': 'NaN',\n",
       " 'email_address': 'NaN',\n",
       " 'exercised_stock_options': 'NaN',\n",
       " 'expenses': 'NaN',\n",
       " 'from_messages': 'NaN',\n",
       " 'from_poi_to_this_person': 'NaN',\n",
       " 'from_this_person_to_poi': 'NaN',\n",
       " 'loan_advances': 'NaN',\n",
       " 'long_term_incentive': 'NaN',\n",
       " 'other': 362096,\n",
       " 'poi': False,\n",
       " 'restricted_stock': 'NaN',\n",
       " 'restricted_stock_deferred': 'NaN',\n",
       " 'salary': 'NaN',\n",
       " 'shared_receipt_with_poi': 'NaN',\n",
       " 'to_messages': 'NaN',\n",
       " 'total_payments': 362096,\n",
       " 'total_stock_value': 'NaN'}"
      ]
     },
     "execution_count": 3,
     "metadata": {},
     "output_type": "execute_result"
    }
   ],
   "source": [
    "# Examined the PDF for names that do not seem to correspond to employees' names. Remove below\n",
    "data_dict.pop ( 'TOTAL', 0 )\n",
    "data_dict.pop ( 'THE TRAVEL AGENCY IN THE PARK', 0 )"
   ]
  },
  {
   "cell_type": "code",
   "execution_count": 4,
   "metadata": {
    "collapsed": true
   },
   "outputs": [],
   "source": [
    "#adding key-value pairs to dict of dicts (from discussion forum):\n",
    "\n",
    "#New feature: salary to total payments\n",
    "def compute_ratio (numerator, denominator):\n",
    "    if (numerator == 'NaN') or (denominator == 'NaN') or (denominator == 0):\n",
    "        fraction = 0\n",
    "    else:\n",
    "        fraction = float(numerator)/float(denominator)\n",
    "    return fraction\n",
    "\n",
    "def add_feature(dict):\n",
    "    for key in dict:\n",
    "        salary = dict[key]['salary']\n",
    "        total_payments = dict[key]['total_payments']\n",
    "        salary_to_total_payments = compute_ratio(salary, total_payments)\n",
    "        dict[key]['salary_to_total_payments'] = salary_to_total_payments\n",
    "\n",
    "add_feature(data_dict)"
   ]
  },
  {
   "cell_type": "code",
   "execution_count": 5,
   "metadata": {
    "collapsed": false
   },
   "outputs": [],
   "source": [
    "features_list = ['poi', 'salary', 'deferral_payments', 'total_payments', \n",
    "                'bonus', 'restricted_stock_deferred', 'deferred_income', \n",
    "                'total_stock_value', 'expenses', 'exercised_stock_options',\n",
    "                'long_term_incentive', 'restricted_stock', 'salary_to_total_payments', \n",
    "                'from_poi_to_this_person','from_this_person_to_poi','shared_receipt_with_poi']"
   ]
  },
  {
   "cell_type": "code",
   "execution_count": 6,
   "metadata": {
    "collapsed": false
   },
   "outputs": [],
   "source": [
    "# Extract features and labels from dataset for local testing\n",
    "data = featureFormat(data_dict, features_list, sort_keys = True)\n",
    "labels, features = targetFeatureSplit(data)\n"
   ]
  },
  {
   "cell_type": "code",
   "execution_count": 7,
   "metadata": {
    "collapsed": false
   },
   "outputs": [],
   "source": [
    "# splitting the data into train and testing datasets\n",
    "features_train, features_test, labels_train, labels_test = \\\n",
    "    train_test_split(features, labels, test_size=0.3, random_state=42)\n"
   ]
  },
  {
   "cell_type": "code",
   "execution_count": 8,
   "metadata": {
    "collapsed": false
   },
   "outputs": [],
   "source": [
    "# stratifiedshufflesplit works by splitting the data into different train and test groups\n",
    "# each having a class (POI) proportion roughly equal to the whole\n",
    "sss = StratifiedShuffleSplit (\n",
    "    labels_train,\n",
    "    n_iter = 100,\n",
    "    test_size = 0.2,\n",
    "    random_state = 0)"
   ]
  },
  {
   "cell_type": "markdown",
   "metadata": {},
   "source": [
    "K nearest neighbor algorithm"
   ]
  },
  {
   "cell_type": "code",
   "execution_count": 11,
   "metadata": {
    "collapsed": true
   },
   "outputs": [],
   "source": [
    "# Build kNN algorithm by chaining steps, including robust scaler in a pipeline.\n",
    "SKB = SelectKBest(f_classif)\n",
    "scale = RobustScaler()\n",
    "nbrs = KNeighborsClassifier()\n",
    "\n",
    "pipe= Pipeline(steps=[(\"SKB\", SKB), (\"scale\", scale), (\"nbrs\", nbrs)])\n",
    "\n",
    "param_grid = {\n",
    "    \"SKB__k\": [4,5,6,7,8,9,10,11,12,13,14],\n",
    "    \"nbrs__n_neighbors\": [2,4,6,8],\n",
    "    \"nbrs__weights\": [\"uniform\", \"distance\"],\n",
    "    \"nbrs__algorithm\": [\"auto\", \"ball_tree\", \"kd_tree\", \"brute\"],\n",
    "    \"nbrs__p\": [1,2]\n",
    "}"
   ]
  },
  {
   "cell_type": "code",
   "execution_count": 13,
   "metadata": {
    "collapsed": false
   },
   "outputs": [],
   "source": [
    "# GridSearchCV tries different combination of the specified parameters to find the best combination\n",
    "gs = GridSearchCV(\n",
    "        pipe,\n",
    "        param_grid=param_grid,\n",
    "        cv = sss,\n",
    "        scoring='f1',\n",
    "        n_jobs = -1\n",
    "    )"
   ]
  },
  {
   "cell_type": "code",
   "execution_count": 14,
   "metadata": {
    "collapsed": false
   },
   "outputs": [
    {
     "data": {
      "text/plain": [
       "GridSearchCV(cv=StratifiedShuffleSplit(labels=[ 0.  0. ...,  0.  0.], n_iter=100, test_size=0.2, random_state=0),\n",
       "       error_score='raise',\n",
       "       estimator=Pipeline(steps=[('SKB', SelectKBest(k=10, score_func=<function f_classif at 0x0578FF70>)), ('scale', RobustScaler(copy=True, with_centering=True, with_scaling=True)), ('nbrs', KNeighborsClassifier(algorithm='auto', leaf_size=30, metric='minkowski',\n",
       "           metric_params=None, n_jobs=1, n_neighbors=5, p=2,\n",
       "           weights='uniform'))]),\n",
       "       fit_params={}, iid=True, n_jobs=-1,\n",
       "       param_grid={'nbrs__algorithm': ['auto', 'ball_tree', 'kd_tree', 'brute'], 'nbrs__n_neighbors': [2, 4, 6, 8], 'nbrs__weights': ['uniform', 'distance'], 'nbrs__p': [1, 2], 'SKB__k': [4, 5, 6, 7, 8, 9, 10, 11, 12, 13, 14]},\n",
       "       pre_dispatch='2*n_jobs', refit=True, scoring='f1', verbose=0)"
      ]
     },
     "execution_count": 14,
     "metadata": {},
     "output_type": "execute_result"
    }
   ],
   "source": [
    "#fit algorithm\n",
    "gs.fit (features_train, labels_train)"
   ]
  },
  {
   "cell_type": "code",
   "execution_count": 15,
   "metadata": {
    "collapsed": true
   },
   "outputs": [],
   "source": [
    "test_predict = gs.predict(features_test)"
   ]
  },
  {
   "cell_type": "code",
   "execution_count": 16,
   "metadata": {
    "collapsed": true
   },
   "outputs": [],
   "source": [
    "clf = gs.best_estimator_"
   ]
  },
  {
   "cell_type": "code",
   "execution_count": 17,
   "metadata": {
    "collapsed": false
   },
   "outputs": [],
   "source": [
    "#Below code from discussion forum finds the list of the selected features\n",
    "features_selected_bool = gs.best_estimator_.named_steps['SKB'].get_support()\n",
    "features_selected_list = [x for x, y in zip(features_list[1:], features_selected_bool) if y]"
   ]
  },
  {
   "cell_type": "code",
   "execution_count": 18,
   "metadata": {
    "collapsed": false
   },
   "outputs": [
    {
     "data": {
      "text/plain": [
       "['salary', 'bonus', 'total_stock_value', 'shared_receipt_with_poi']"
      ]
     },
     "execution_count": 18,
     "metadata": {},
     "output_type": "execute_result"
    }
   ],
   "source": [
    "features_selected_list"
   ]
  },
  {
   "cell_type": "code",
   "execution_count": 26,
   "metadata": {
    "collapsed": false
   },
   "outputs": [],
   "source": [
    "#find the scores associated with the features\n",
    "import numpy as np\n",
    "np.set_printoptions(precision=4)"
   ]
  },
  {
   "cell_type": "code",
   "execution_count": 27,
   "metadata": {
    "collapsed": false
   },
   "outputs": [
    {
     "data": {
      "text/plain": [
       "array([ 11.1963,   0.2594,   2.7679,  11.1295,   0.7635,   5.3041,\n",
       "        14.6913,   5.9062,  13.714 ,   2.6113,   6.5769,   1.4965,\n",
       "         3.5907,   2.1438,   5.4953])"
      ]
     },
     "execution_count": 27,
     "metadata": {},
     "output_type": "execute_result"
    }
   ],
   "source": [
    "gs.best_estimator_.named_steps['SKB'].scores_"
   ]
  },
  {
   "cell_type": "code",
   "execution_count": 20,
   "metadata": {
    "collapsed": false
   },
   "outputs": [],
   "source": [
    "acc = accuracy_score(test_predict, labels_test)\n",
    "prec = precision_score(labels_test, test_predict)\n",
    "rec = recall_score (labels_test, test_predict)"
   ]
  },
  {
   "cell_type": "code",
   "execution_count": 21,
   "metadata": {
    "collapsed": false,
    "scrolled": true
   },
   "outputs": [
    {
     "name": "stdout",
     "output_type": "stream",
     "text": [
      "Accuracy score: 0.860465116279\n",
      "Precision score: 0.333333333333\n",
      "Recall Score: 0.2\n"
     ]
    }
   ],
   "source": [
    "print \"Accuracy score:\", acc\n",
    "print \"Precision score:\", prec\n",
    "print \"Recall Score:\", rec"
   ]
  },
  {
   "cell_type": "code",
   "execution_count": 22,
   "metadata": {
    "collapsed": false
   },
   "outputs": [
    {
     "name": "stdout",
     "output_type": "stream",
     "text": [
      "Pipeline(steps=[('SKB', SelectKBest(k=4, score_func=<function f_classif at 0x0578FF70>)), ('scale', RobustScaler(copy=True, with_centering=True, with_scaling=True)), ('nbrs', KNeighborsClassifier(algorithm='auto', leaf_size=30, metric='minkowski',\n",
      "           metric_params=None, n_jobs=1, n_neighbors=2, p=1,\n",
      "           weights='distance'))])\n",
      "\tAccuracy: 0.83707\tPrecision: 0.38377\tRecall: 0.36650\tF1: 0.37494\tF2: 0.36983\n",
      "\tTotal predictions: 15000\tTrue positives:  733\tFalse positives: 1177\tFalse negatives: 1267\tTrue negatives: 11823\n",
      "\n"
     ]
    }
   ],
   "source": [
    "# Run test_classifier script, which takes the average of a bunch of stratified splits\n",
    "from tester import test_classifier\n",
    "test_classifier(clf, data_dict, features_list)"
   ]
  }
 ],
 "metadata": {
  "kernelspec": {
   "display_name": "Python 2",
   "language": "python",
   "name": "python2"
  },
  "language_info": {
   "codemirror_mode": {
    "name": "ipython",
    "version": 2
   },
   "file_extension": ".py",
   "mimetype": "text/x-python",
   "name": "python",
   "nbconvert_exporter": "python",
   "pygments_lexer": "ipython2",
   "version": "2.7.12"
  }
 },
 "nbformat": 4,
 "nbformat_minor": 0
}
